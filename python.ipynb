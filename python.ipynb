{
 "cells": [
  {
   "cell_type": "code",
   "execution_count": 1,
   "id": "2744419e",
   "metadata": {},
   "outputs": [
    {
     "data": {
      "text/plain": [
       "'prem'"
      ]
     },
     "execution_count": 1,
     "metadata": {},
     "output_type": "execute_result"
    }
   ],
   "source": [
    "\"prem\""
   ]
  },
  {
   "cell_type": "markdown",
   "id": "81eca689",
   "metadata": {},
   "source": [
    "# Opteamix"
   ]
  },
  {
   "cell_type": "markdown",
   "id": "650101f3",
   "metadata": {},
   "source": [
    "Opteamix"
   ]
  },
  {
   "cell_type": "raw",
   "id": "007f458f",
   "metadata": {},
   "source": [
    "Opteamix"
   ]
  },
  {
   "cell_type": "raw",
   "id": "2125360a",
   "metadata": {},
   "source": [
    "OPTEAMIX"
   ]
  },
  {
   "cell_type": "markdown",
   "id": "ff4e6c30",
   "metadata": {},
   "source": [
    "OPTEAMIX"
   ]
  },
  {
   "cell_type": "markdown",
   "id": "02ca649a",
   "metadata": {},
   "source": [
    "# OPTEAMIX"
   ]
  },
  {
   "cell_type": "markdown",
   "id": "4f0dd659",
   "metadata": {},
   "source": [
    "#Since our inception in 2012, we set out to accelerate digital transformation through our innovative solutions and technologies. We are a family of Happy Opteamizers who take pride in offering unmatched customer service by developing customized, reliable, cost-effective, and time-saving solutions for our clients’ unique needs. Dedicated to bringing a diversity of thought and talent to the workforce, Opteamix connects great companies with great talent, solves problems, and works as a partner that clients can always trust."
   ]
  },
  {
   "cell_type": "markdown",
   "id": "75520c55",
   "metadata": {},
   "source": [
    "# A decade of empowering organizations to discover the fastest route\n",
    "to a better tomorrow.\n",
    "Since our inception in 2012, we set out to accelerate digital transformation through our innovative solutions and technologies. We are a family of Happy Opteamizers who take pride in offering unmatched customer service by developing customized, reliable, cost-effective, and time-saving solutions for our clients’ unique needs. Dedicated to bringing a diversity of thought and talent to the workforce, Opteamix connects great companies with great talent, solves problems, and works as a partner that clients can always trust."
   ]
  },
  {
   "cell_type": "code",
   "execution_count": 2,
   "id": "153c59c7",
   "metadata": {},
   "outputs": [
    {
     "ename": "NameError",
     "evalue": "name 'PWD' is not defined",
     "output_type": "error",
     "traceback": [
      "\u001b[1;31m---------------------------------------------------------------------------\u001b[0m",
      "\u001b[1;31mNameError\u001b[0m                                 Traceback (most recent call last)",
      "\u001b[1;32m~\\AppData\\Local\\Temp\\ipykernel_141708\\1100628456.py\u001b[0m in \u001b[0;36m<module>\u001b[1;34m\u001b[0m\n\u001b[1;32m----> 1\u001b[1;33m \u001b[0mPWD\u001b[0m\u001b[1;33m\u001b[0m\u001b[1;33m\u001b[0m\u001b[0m\n\u001b[0m",
      "\u001b[1;31mNameError\u001b[0m: name 'PWD' is not defined"
     ]
    }
   ],
   "source": [
    "PWD"
   ]
  },
  {
   "cell_type": "code",
   "execution_count": 3,
   "id": "a34e22d8",
   "metadata": {},
   "outputs": [
    {
     "data": {
      "text/plain": [
       "'C:\\\\Users\\\\phanumanthaiah'"
      ]
     },
     "execution_count": 3,
     "metadata": {},
     "output_type": "execute_result"
    }
   ],
   "source": [
    "pwd"
   ]
  },
  {
   "cell_type": "code",
   "execution_count": null,
   "id": "cf4ce466",
   "metadata": {},
   "outputs": [],
   "source": []
  }
 ],
 "metadata": {
  "kernelspec": {
   "display_name": "Python 3 (ipykernel)",
   "language": "python",
   "name": "python3"
  },
  "language_info": {
   "codemirror_mode": {
    "name": "ipython",
    "version": 3
   },
   "file_extension": ".py",
   "mimetype": "text/x-python",
   "name": "python",
   "nbconvert_exporter": "python",
   "pygments_lexer": "ipython3",
   "version": "3.9.13"
  }
 },
 "nbformat": 4,
 "nbformat_minor": 5
}
